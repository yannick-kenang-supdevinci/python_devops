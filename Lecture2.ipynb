{
 "cells": [
  {
   "cell_type": "markdown",
   "metadata": {},
   "source": [
    "### **Writing Core Components**\n",
    "\n",
    "---\n",
    "\n",
    "#### **Writing Clean, Maintainable Code**\n",
    "- **Content:**\n",
    "  - Writing clean code makes it easier to understand, maintain, and debug.\n",
    "  - Code readability is important for collaboration, especially in large teams.\n",
    "  - Use meaningful variable and function names.\n",
    "  \n",
    "  **Key Points:**\n",
    "  - Follow consistent naming conventions (e.g., `snake_case` for Python).\n",
    "  - Keep functions focused on a single responsibility.\n",
    "  - Comment and document your code effectively."
   ]
  },
  {
   "cell_type": "code",
   "execution_count": 1,
   "metadata": {},
   "outputs": [
    {
     "name": "stdout",
     "output_type": "stream",
     "text": [
      "21.0\n"
     ]
    }
   ],
   "source": [
    "# Example of clean, readable code\n",
    "def calculate_total_price(price, quantity, tax_rate=0.05):\n",
    "    \"\"\"\n",
    "    Calculate the total price of an item after tax.\n",
    "\n",
    "    Args:\n",
    "    price (float): Price of the item.\n",
    "    quantity (int): Number of items.\n",
    "    tax_rate (float): Tax rate to be applied. Default is 5%.\n",
    "\n",
    "    Returns:\n",
    "    float: Total price including tax.\n",
    "    \"\"\"\n",
    "    total_price = price * quantity\n",
    "    tax = total_price * tax_rate\n",
    "    return total_price + tax\n",
    "\n",
    "print(calculate_total_price(10, 2))  # Output: 21.0"
   ]
  },
  {
   "cell_type": "markdown",
   "metadata": {},
   "source": [
    "#### **2- Code Refactoring Techniques**\n",
    "- **Content:**\n",
    "  - Refactoring involves restructuring existing code to improve readability and performance without changing its functionality.\n",
    "  - Identify repetitive patterns and extract them into functions.\n",
    "  - Avoid deep nesting of control structures for better readability.\n",
    "\n",
    "  **Key Points:**\n",
    "  - Refactor long functions into smaller, reusable functions.\n",
    "  - Reduce code complexity by simplifying logic."
   ]
  },
  {
   "cell_type": "code",
   "execution_count": null,
   "metadata": {},
   "outputs": [],
   "source": [
    "# Example: Before refactoring\n",
    "def process_order(order):\n",
    "    if order['status'] == 'pending':\n",
    "        order['total'] = order['quantity'] * order['price']\n",
    "        if order['total'] > 100:\n",
    "            order['discount'] = 0.1\n",
    "        else:\n",
    "            order['discount'] = 0\n",
    "    return order\n",
    "\n",
    "# Refactored version\n",
    "def calculate_discount(total):\n",
    "    return 0.1 if total > 100 else 0\n",
    "\n",
    "def process_order(order):\n",
    "    if order['status'] == 'pending':\n",
    "        order['total'] = order['quantity'] * order['price']\n",
    "        order['discount'] = calculate_discount(order['total'])\n",
    "    return order"
   ]
  },
  {
   "cell_type": "markdown",
   "metadata": {},
   "source": [
    "#### **3- Error Handling and Exceptions**\n",
    "- **Content:**\n",
    "  - Error handling is crucial in DevOps scripts to ensure that failures are caught and managed properly.\n",
    "  - Use `try-except` blocks to handle exceptions and log errors for debugging.\n",
    "  - It's important to catch specific exceptions rather than using a general `except` clause.\n",
    "\n",
    "  **Key Points:**\n",
    "  - Use `try-except` for catching and handling exceptions.\n",
    "  - Always handle exceptions in production code to prevent crashes."
   ]
  },
  {
   "cell_type": "code",
   "execution_count": 2,
   "metadata": {},
   "outputs": [
    {
     "name": "stdout",
     "output_type": "stream",
     "text": [
      "5.0\n",
      "Error: Cannot divide by zero.\n",
      "None\n"
     ]
    }
   ],
   "source": [
    "# Example of error handling with try-except\n",
    "def divide_numbers(a, b):\n",
    "    try:\n",
    "        result = a / b\n",
    "    except ZeroDivisionError as e:\n",
    "        print(\"Error: Cannot divide by zero.\")\n",
    "        return None\n",
    "    except Exception as e:\n",
    "        print(f\"An error occurred: {e}\")\n",
    "        return None\n",
    "    else:\n",
    "        return result\n",
    "\n",
    "print(divide_numbers(10, 2))  # Output: 5.0\n",
    "print(divide_numbers(10, 0))  # Output: Error: Cannot divide by zero."
   ]
  },
  {
   "cell_type": "markdown",
   "metadata": {},
   "source": [
    "#### **4- Logging in Python**\n",
    "- **Content:**\n",
    "  - Logging helps you track the behavior of an application and is crucial for debugging in production.\n",
    "  - Use Python's built-in `logging` module to log information at different levels: `DEBUG`, `INFO`, `WARNING`, `ERROR`, and `CRITICAL`.\n",
    "\n",
    "  **Key Points:**\n",
    "  - Use `logging` instead of `print()` for production-ready applications.\n",
    "  - Choose appropriate log levels for different kinds of messages."
   ]
  },
  {
   "cell_type": "code",
   "execution_count": 3,
   "metadata": {},
   "outputs": [],
   "source": [
    "import logging\n",
    "\n",
    "# Configure logging\n",
    "logging.basicConfig(filename='app.log', level=logging.INFO, format='%(asctime)s - %(levelname)s - %(message)s')\n",
    "\n",
    "# Example of logging usage\n",
    "def process_data(data):\n",
    "    if not data:\n",
    "        logging.warning('No data received.')\n",
    "        return\n",
    "    logging.info(f\"Processing data: {data}\")\n",
    "    # Simulate data processing\n",
    "    processed_data = [d.upper() for d in data]\n",
    "    logging.debug(f\"Processed data: {processed_data}\")\n",
    "    return processed_data\n",
    "\n",
    "process_data(['apple', 'banana'])\n",
    "process_data([])"
   ]
  },
  {
   "cell_type": "markdown",
   "metadata": {},
   "source": [
    "#### **5: HPut All together: Writing Core Components**\n",
    "\n",
    "  1. Write a function to process a list of orders and calculate the total price with error handling.\n",
    "  2. Refactor a complex function into smaller, reusable components.\n",
    "  3. Add logging to the code to track progress and catch potential issues.\n",
    "\n",
    "\n"
   ]
  },
  {
   "cell_type": "code",
   "execution_count": null,
   "metadata": {},
   "outputs": [],
   "source": [
    "# Lab Exercise 1: Processing orders with error handling\n",
    "def process_order(order):\n",
    "    try:\n",
    "        total = order['quantity'] * order['price']\n",
    "        if 'discount' in order:\n",
    "            total -= total * order['discount']\n",
    "        return total\n",
    "    except KeyError as e:\n",
    "        logging.error(f\"Missing key in order: {e}\")\n",
    "        return None\n",
    "    except Exception as e:\n",
    "        logging.error(f\"Error processing order: {e}\")\n",
    "        return None\n",
    "\n",
    "# Lab Exercise 2: Refactoring\n",
    "def calculate_total(order):\n",
    "    return order['quantity'] * order['price']\n",
    "\n",
    "def apply_discount(total, discount):\n",
    "    return total - (total * discount)\n",
    "\n",
    "# Refactored process_order\n",
    "def process_order_refactored(order):\n",
    "    total = calculate_total(order)\n",
    "    if 'discount' in order:\n",
    "        total = apply_discount(total, order['discount'])\n",
    "    return total\n",
    "\n",
    "# Lab Exercise 3: Add logging\n",
    "logging.basicConfig(level=logging.INFO)\n",
    "\n",
    "def process_orders(orders):\n",
    "    for order in orders:\n",
    "        logging.info(f\"Processing order: {order}\")\n",
    "        total = process_order_refactored(order)\n",
    "        logging.info(f\"Total for order: {total}\")"
   ]
  }
 ],
 "metadata": {
  "kernelspec": {
   "display_name": "Python 3",
   "language": "python",
   "name": "python3"
  },
  "language_info": {
   "codemirror_mode": {
    "name": "ipython",
    "version": 3
   },
   "file_extension": ".py",
   "mimetype": "text/x-python",
   "name": "python",
   "nbconvert_exporter": "python",
   "pygments_lexer": "ipython3",
   "version": "3.9.6"
  }
 },
 "nbformat": 4,
 "nbformat_minor": 2
}
